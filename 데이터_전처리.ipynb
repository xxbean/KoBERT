{
  "nbformat": 4,
  "nbformat_minor": 0,
  "metadata": {
    "colab": {
      "name": "지오_전처리!.ipynb",
      "provenance": [],
      "collapsed_sections": []
    },
    "kernelspec": {
      "name": "python3",
      "display_name": "Python 3"
    },
    "language_info": {
      "name": "python"
    }
  },
  "cells": [
    {
      "cell_type": "code",
      "metadata": {
        "id": "CzZ_9FMsB1Zm"
      },
      "source": [
        "import pandas as pd"
      ],
      "execution_count": null,
      "outputs": []
    },
    {
      "cell_type": "code",
      "metadata": {
        "colab": {
          "base_uri": "https://localhost:8080/"
        },
        "id": "djmJi1ifB80K",
        "outputId": "27f07e56-d609-49a7-c169-6c980e91136a"
      },
      "source": [
        "cd '/content/drive/MyDrive/프로젝트2-B팀/요약 관련/'"
      ],
      "execution_count": null,
      "outputs": [
        {
          "output_type": "stream",
          "name": "stdout",
          "text": [
            "/content/drive/MyDrive/프로젝트2-B팀/요약 관련\n"
          ]
        }
      ]
    },
    {
      "cell_type": "code",
      "metadata": {
        "colab": {
          "base_uri": "https://localhost:8080/"
        },
        "id": "_BbNvAfXB-QG",
        "outputId": "7ae11a80-f62d-4009-eb60-29890a95bc2c"
      },
      "source": [
        "#여기에는 지원내용이랑 지원대상 컬럼이 없는 것 같아서 그냥 원래 데이터 가져올게용.\n",
        "\n",
        "data = pd.read_csv(\"policy_metetable(DSL전달용).csv\")"
      ],
      "execution_count": null,
      "outputs": [
        {
          "output_type": "stream",
          "name": "stderr",
          "text": [
            "/usr/local/lib/python3.7/dist-packages/IPython/core/interactiveshell.py:2718: DtypeWarning: Columns (23,26,28,33) have mixed types.Specify dtype option on import or set low_memory=False.\n",
            "  interactivity=interactivity, compiler=compiler, result=result)\n"
          ]
        }
      ]
    },
    {
      "cell_type": "code",
      "metadata": {
        "id": "iWmQZ4KjbHhR"
      },
      "source": [
        "import numpy as np"
      ],
      "execution_count": null,
      "outputs": []
    },
    {
      "cell_type": "code",
      "metadata": {
        "id": "bdphINocbjpM"
      },
      "source": [
        "data_1000 = data.sample(n = 10, replace = True)"
      ],
      "execution_count": null,
      "outputs": []
    },
    {
      "cell_type": "code",
      "metadata": {
        "id": "c2qkCsOoDI2h"
      },
      "source": [
        "exdt = data['지원대상']"
      ],
      "execution_count": null,
      "outputs": []
    },
    {
      "cell_type": "code",
      "metadata": {
        "id": "enUquCdwKAxS"
      },
      "source": [
        "tpdt = data['지원내용']"
      ],
      "execution_count": null,
      "outputs": []
    },
    {
      "cell_type": "code",
      "metadata": {
        "colab": {
          "base_uri": "https://localhost:8080/"
        },
        "id": "XSGEpfMCDTZW",
        "outputId": "1901f427-f09b-4942-a15a-9d4a9a4dcbe4"
      },
      "source": [
        "exdt.isnull().sum()"
      ],
      "execution_count": null,
      "outputs": [
        {
          "output_type": "execute_result",
          "data": {
            "text/plain": [
              "0"
            ]
          },
          "metadata": {},
          "execution_count": 11
        }
      ]
    },
    {
      "cell_type": "markdown",
      "metadata": {
        "id": "owqtzm8WCMKW"
      },
      "source": [
        "## 없애고 싶은 것:\n",
        "* 홈페이지 주소\n",
        "* 각종 특수문자\n",
        "* 괄호 안에 있는 모든 것.\n",
        "* 카테고리\n",
        "* 한자 한국어로 바꾸기.\n",
        "\n",
        "순서: 괄호 안에 있는 것들 -> 홈페이지(영어) -> 카테고리 ->한자 한국어로 바꾸기 -> 특수문자 제거"
      ]
    },
    {
      "cell_type": "markdown",
      "metadata": {
        "id": "SDoKRUCGC9Fb"
      },
      "source": [
        "### 여러 개의 스페이스 바"
      ]
    },
    {
      "cell_type": "markdown",
      "metadata": {
        "id": "xR0FQrrMCQTp"
      },
      "source": [
        "### 괄호 안에 있는 것들"
      ]
    },
    {
      "cell_type": "code",
      "metadata": {
        "id": "t-PoAjjICZm4"
      },
      "source": [
        "exdt = exdt.str.replace('\\n\\n\\n', '\\n') # \\n을 기준으로 문장 생성\n",
        "exdt = exdt.str.replace('\\n\\n', '\\n') # \\n을 기준으로 문장 생성\n",
        "exdt = exdt.str.replace('\\n', '.') # \\n을 기준으로 문장 생성\n",
        "#exdt = exdt.str.replace('○', '') # 거슬리는 특수문자 제거\n",
        "exdt = exdt +\".\"                  # 맨 마지막에 온점 찍기"
      ],
      "execution_count": null,
      "outputs": []
    },
    {
      "cell_type": "code",
      "metadata": {
        "id": "_LzkqEFTKEBp"
      },
      "source": [
        "tpdt = tpdt.str.replace('\\n\\n\\n', '\\n') # \\n을 기준으로 문장 생성\n",
        "tpdt = tpdt.str.replace('\\n\\n', '\\n') # \\n을 기준으로 문장 생성\n",
        "tpdt = tpdt.str.replace('\\n', '.') # \\n을 기준으로 문장 생성\n",
        "#tpdt = tpdt.str.replace('○', '') # 거슬리는 특수문자 제거\n",
        "tpdt = tpdt +\".\"                  # 맨 마지막에 온점 찍기"
      ],
      "execution_count": null,
      "outputs": []
    },
    {
      "cell_type": "code",
      "metadata": {
        "colab": {
          "base_uri": "https://localhost:8080/",
          "height": 34
        },
        "id": "D_aNlyfjrjvl",
        "outputId": "021b3127-d0a0-4fb6-84f1-8de574014b1a"
      },
      "source": [
        "tpdt[34]"
      ],
      "execution_count": null,
      "outputs": [
        {
          "output_type": "execute_result",
          "data": {
            "application/vnd.google.colaboratory.intrinsic+json": {
              "type": "string"
            },
            "text/plain": [
              "'○ 항로표지 전문인력의 양성 및 교육ㆍ훈련에 관한 사항, 교육프로그램의 개발 및 보급.'"
            ]
          },
          "metadata": {},
          "execution_count": 143
        }
      ]
    },
    {
      "cell_type": "code",
      "metadata": {
        "colab": {
          "base_uri": "https://localhost:8080/",
          "height": 52
        },
        "id": "A5W1LB9TKJcG",
        "outputId": "78466f86-1894-4c58-f0d7-a04681429722"
      },
      "source": [
        "tpdt[3]"
      ],
      "execution_count": null,
      "outputs": [
        {
          "output_type": "execute_result",
          "data": {
            "application/vnd.google.colaboratory.intrinsic+json": {
              "type": "string"
            },
            "text/plain": [
              "'○ 자금용도 : 운영자금.○ 한도 : 기존 대출한도 外 일정범위내 특별한도 부여(중견기업 최대 1,200억원, 중소기업 최대 600억원). ※ 매출액 등에 따른 기존 운영자금 대출한도 외 추가한도 부여.○ 우대조건 : 최대 0.90%p 금리 우대, 심사절차 간소화 등.'"
            ]
          },
          "metadata": {},
          "execution_count": 81
        }
      ]
    },
    {
      "cell_type": "code",
      "metadata": {
        "colab": {
          "base_uri": "https://localhost:8080/",
          "height": 34
        },
        "id": "kqrQaYo0DoTg",
        "outputId": "ede63631-8032-407c-8341-0ded3979c211"
      },
      "source": [
        "exdt[88484]"
      ],
      "execution_count": null,
      "outputs": [
        {
          "output_type": "execute_result",
          "data": {
            "application/vnd.google.colaboratory.intrinsic+json": {
              "type": "string"
            },
            "text/plain": [
              "'만3세~6세 어린이.저소득계층(최저생계비 200% 이내), 취학 전 아동.저소득층||일반...'"
            ]
          },
          "metadata": {},
          "execution_count": 35
        }
      ]
    },
    {
      "cell_type": "code",
      "metadata": {
        "colab": {
          "base_uri": "https://localhost:8080/",
          "height": 34
        },
        "id": "8Q2tkthsCBD7",
        "outputId": "2156614b-5b16-4013-f20f-eeb3df1f3469"
      },
      "source": [
        "import re\n",
        "meat = re.sub(r'\\([^)]*\\)',\"\",exdt[88484])\n",
        "meat"
      ],
      "execution_count": null,
      "outputs": [
        {
          "output_type": "execute_result",
          "data": {
            "application/vnd.google.colaboratory.intrinsic+json": {
              "type": "string"
            },
            "text/plain": [
              "'만3세~6세 어린이.저소득계층, 취학 전 아동.저소득층||일반...'"
            ]
          },
          "metadata": {},
          "execution_count": 36
        }
      ]
    },
    {
      "cell_type": "markdown",
      "metadata": {
        "id": "nF2YIsOnChqE"
      },
      "source": [
        "### 영어 제거"
      ]
    },
    {
      "cell_type": "code",
      "metadata": {
        "colab": {
          "base_uri": "https://localhost:8080/",
          "height": 34
        },
        "id": "_WeDvoiZCRsj",
        "outputId": "31551b89-4c02-46c1-9a95-b121440c65dd"
      },
      "source": [
        "meat = meat + 'abcd'\n",
        "meat\n",
        "\n",
        "meat1 = re.sub(r'[!^a-zA-Z0-9]',\"\",meat)\n",
        "meat1"
      ],
      "execution_count": null,
      "outputs": [
        {
          "output_type": "execute_result",
          "data": {
            "application/vnd.google.colaboratory.intrinsic+json": {
              "type": "string"
            },
            "text/plain": [
              "'만세~세 어린이.저소득계층, 취학 전 아동.저소득층||일반.'"
            ]
          },
          "metadata": {},
          "execution_count": 17
        }
      ]
    },
    {
      "cell_type": "code",
      "metadata": {
        "id": "OKi6b4hUFahc"
      },
      "source": [
        "# 지금까지 전처리 합친 코드\n",
        "\n",
        "def preprocessing(x):\n",
        "  meat = re.sub(r'\\([^)]*\\)',\"\",x)\n",
        "  meat1 = re.sub(r'[!^a-zA-Z]',\"\",meat)\n",
        "  return meat1.split(\".\")\n"
      ],
      "execution_count": null,
      "outputs": []
    },
    {
      "cell_type": "code",
      "metadata": {
        "colab": {
          "base_uri": "https://localhost:8080/"
        },
        "id": "EZuflIlzKbEg",
        "outputId": "cac6e2a5-93be-4500-bf9c-3f43e72b52ce"
      },
      "source": [
        "lala = preprocessing(tpdt[3])\n",
        "lala"
      ],
      "execution_count": null,
      "outputs": [
        {
          "output_type": "execute_result",
          "data": {
            "text/plain": [
              "['○ 자금용도 : 운영자금',\n",
              " '○ 한도 : 기존 대출한도 外 일정범위내 특별한도 부여',\n",
              " ' ※ 매출액 등에 따른 기존 운영자금 대출한도 외 추가한도 부여',\n",
              " '○ 우대조건 : 최대 0',\n",
              " '90% 금리 우대, 심사절차 간소화 등',\n",
              " '']"
            ]
          },
          "metadata": {},
          "execution_count": 145
        }
      ]
    },
    {
      "cell_type": "markdown",
      "metadata": {
        "id": "0a2BDpLXCkqT"
      },
      "source": [
        "### 카테고리\n",
        "카테고리는 ||, /, > 로 구분되어있어요.\n",
        "\n",
        "카테고리 이름은 저 기호랑 띄어쓰기 없이 바로 연결되어있어요,\n",
        "\n",
        "그리고 보통 카테고리는 \\n\\n 여러 개 뒤에 나오는 듯?\n",
        "\n",
        "그리고 셀의 맨 마지막에 나와용! 그래서 그냥 셀마다 하나하나 전처리 하고 합칠게여.\n",
        "\n"
      ]
    },
    {
      "cell_type": "code",
      "metadata": {
        "id": "gROH8aIlClUl"
      },
      "source": [
        "#스트링을 온점을 기준으로 분리 이후에 마지막 스트링에 저 세가지 기호 중 하나 있으면 삭제? 할게여.\n",
        "\n",
        "meat2 = meat1.split(\".\")"
      ],
      "execution_count": null,
      "outputs": []
    },
    {
      "cell_type": "code",
      "metadata": {
        "colab": {
          "base_uri": "https://localhost:8080/"
        },
        "id": "A2IBdnhhF-Gj",
        "outputId": "5a526139-bc12-47a4-b69f-93fe68d6e225"
      },
      "source": [
        "meat2"
      ],
      "execution_count": null,
      "outputs": [
        {
          "output_type": "execute_result",
          "data": {
            "text/plain": [
              "['만세~세 어린이', '저소득계층, 취학 전 아동', '저소득층||일반', '']"
            ]
          },
          "metadata": {},
          "execution_count": 39
        }
      ]
    },
    {
      "cell_type": "code",
      "metadata": {
        "colab": {
          "base_uri": "https://localhost:8080/"
        },
        "id": "J_9kSKwmFgZk",
        "outputId": "df4a4788-27bf-48df-e24f-93454ffc8414"
      },
      "source": [
        "#몇몇 것들이 뒤에 empty string이 몇 개 나와서 이거 다 없애고 그 마지막 카테고리 없앨게여.\n",
        "#일단 엠트 스트링 없애기\n",
        "meat3 = []\n",
        "for i in range(len(meat2)):\n",
        "  if len(meat2[i]) != 0:\n",
        "    meat3.append(meat2[i])\n",
        "\n",
        "meat3"
      ],
      "execution_count": null,
      "outputs": [
        {
          "output_type": "execute_result",
          "data": {
            "text/plain": [
              "['만세~세 어린이', '저소득계층, 취학 전 아동', '저소득층||일반']"
            ]
          },
          "metadata": {},
          "execution_count": 62
        }
      ]
    },
    {
      "cell_type": "code",
      "metadata": {
        "colab": {
          "base_uri": "https://localhost:8080/"
        },
        "id": "Zxu5_PmdGLIm",
        "outputId": "d0d359d7-cb04-4e04-8dfa-fea23c7abc1d"
      },
      "source": [
        "cat_string = [\"||\", \"/\", \">\"]\n",
        "for i in range(len(meat3)):\n",
        "  for j in range(3):\n",
        "    if cat_string[j] in meat3[-i]:\n",
        "      del meat3[-i]\n",
        "      continue\n",
        "\n",
        "  \n",
        "meat3"
      ],
      "execution_count": null,
      "outputs": [
        {
          "output_type": "execute_result",
          "data": {
            "text/plain": [
              "['만세~세 어린이', '저소득계층, 취학 전 아동']"
            ]
          },
          "metadata": {},
          "execution_count": 63
        }
      ]
    },
    {
      "cell_type": "code",
      "metadata": {
        "colab": {
          "base_uri": "https://localhost:8080/",
          "height": 34
        },
        "id": "xXsjdwrcJXdn",
        "outputId": "e1be40f3-796c-47a7-feba-50ea634ac542"
      },
      "source": [
        "meat4 = \".\".join(meat3)\n",
        "meat4\n",
        "meat4 = meat4+\".\"\n",
        "meat4"
      ],
      "execution_count": null,
      "outputs": [
        {
          "output_type": "execute_result",
          "data": {
            "application/vnd.google.colaboratory.intrinsic+json": {
              "type": "string"
            },
            "text/plain": [
              "'만세~세 어린이.저소득계층, 취학 전 아동.'"
            ]
          },
          "metadata": {},
          "execution_count": 70
        }
      ]
    },
    {
      "cell_type": "code",
      "metadata": {
        "colab": {
          "base_uri": "https://localhost:8080/",
          "height": 52
        },
        "id": "eTGyLKf4KhLN",
        "outputId": "7b674ec2-d51f-4f52-8739-98b1e39acda7"
      },
      "source": [
        "def non_cat(x):\n",
        "  meat3 = []\n",
        "  for i in range(len(x)):\n",
        "    if len(x[i]) != 0:\n",
        "      meat3.append(x[i])\n",
        "  cat_string = [\"||\", \"/\", \">\"]\n",
        "  for i in range(len(meat3)):\n",
        "    for j in range(3):\n",
        "      if cat_string[j] in meat3[-i]:\n",
        "        del meat3[-i]\n",
        "        continue\n",
        "  meat4 = \".\".join(meat3)\n",
        "  meat4 = meat4 + '.'\n",
        "  return meat4\n",
        "\n",
        "non_cat(lala)"
      ],
      "execution_count": null,
      "outputs": [
        {
          "output_type": "execute_result",
          "data": {
            "application/vnd.google.colaboratory.intrinsic+json": {
              "type": "string"
            },
            "text/plain": [
              "'○ 자금용도 : 운영자금.○ 한도 : 기존 대출한도 外 일정범위내 특별한도 부여. ※ 매출액 등에 따른 기존 운영자금 대출한도 외 추가한도 부여.○ 우대조건 : 최대 0.90% 금리 우대, 심사절차 간소화 등.'"
            ]
          },
          "metadata": {},
          "execution_count": 146
        }
      ]
    },
    {
      "cell_type": "code",
      "metadata": {
        "id": "DY9oX0EXLOYp"
      },
      "source": [
        "lala = non_cat(lala)"
      ],
      "execution_count": null,
      "outputs": []
    },
    {
      "cell_type": "code",
      "metadata": {
        "colab": {
          "base_uri": "https://localhost:8080/",
          "height": 52
        },
        "id": "PvGURHNlLkmt",
        "outputId": "4be30472-3b2c-408f-98f5-ed72079b0369"
      },
      "source": [
        "lala"
      ],
      "execution_count": null,
      "outputs": [
        {
          "output_type": "execute_result",
          "data": {
            "application/vnd.google.colaboratory.intrinsic+json": {
              "type": "string"
            },
            "text/plain": [
              "'○ 자금용도 : 운영자금.○ 한도 : 기존 대출한도 外 일정범위내 특별한도 부여. ※ 매출액 등에 따른 기존 운영자금 대출한도 외 추가한도 부여.○ 우대조건 : 최대 0.90% 금리 우대, 심사절차 간소화 등.'"
            ]
          },
          "metadata": {},
          "execution_count": 153
        }
      ]
    },
    {
      "cell_type": "markdown",
      "metadata": {
        "id": "48wRTUVzMIuY"
      },
      "source": [
        "### 한자를 한글로 변환"
      ]
    },
    {
      "cell_type": "code",
      "metadata": {
        "colab": {
          "base_uri": "https://localhost:8080/"
        },
        "id": "RmAY8kYkLs_W",
        "outputId": "5e7dafe7-97fe-42b5-a286-7ad8351848b8"
      },
      "source": [
        "!pip install hanja"
      ],
      "execution_count": null,
      "outputs": [
        {
          "output_type": "stream",
          "name": "stdout",
          "text": [
            "Collecting hanja\n",
            "  Downloading hanja-0.13.3.tar.gz (120 kB)\n",
            "\u001b[K     |████████████████████████████████| 120 kB 37.1 MB/s \n",
            "\u001b[?25hCollecting pyyaml==5.1.2\n",
            "  Downloading PyYAML-5.1.2.tar.gz (265 kB)\n",
            "\u001b[K     |████████████████████████████████| 265 kB 49.8 MB/s \n",
            "\u001b[?25hRequirement already satisfied: pytest in /usr/local/lib/python3.7/dist-packages (from hanja) (3.6.4)\n",
            "Collecting pytest-cov\n",
            "  Downloading pytest_cov-3.0.0-py3-none-any.whl (20 kB)\n",
            "Requirement already satisfied: coveralls in /usr/local/lib/python3.7/dist-packages (from hanja) (0.5)\n",
            "Requirement already satisfied: docopt>=0.6.1 in /usr/local/lib/python3.7/dist-packages (from coveralls->hanja) (0.6.2)\n",
            "Requirement already satisfied: coverage<3.999,>=3.6 in /usr/local/lib/python3.7/dist-packages (from coveralls->hanja) (3.7.1)\n",
            "Requirement already satisfied: requests>=1.0.0 in /usr/local/lib/python3.7/dist-packages (from coveralls->hanja) (2.23.0)\n",
            "Requirement already satisfied: idna<3,>=2.5 in /usr/local/lib/python3.7/dist-packages (from requests>=1.0.0->coveralls->hanja) (2.10)\n",
            "Requirement already satisfied: chardet<4,>=3.0.2 in /usr/local/lib/python3.7/dist-packages (from requests>=1.0.0->coveralls->hanja) (3.0.4)\n",
            "Requirement already satisfied: urllib3!=1.25.0,!=1.25.1,<1.26,>=1.21.1 in /usr/local/lib/python3.7/dist-packages (from requests>=1.0.0->coveralls->hanja) (1.24.3)\n",
            "Requirement already satisfied: certifi>=2017.4.17 in /usr/local/lib/python3.7/dist-packages (from requests>=1.0.0->coveralls->hanja) (2021.10.8)\n",
            "Requirement already satisfied: six>=1.10.0 in /usr/local/lib/python3.7/dist-packages (from pytest->hanja) (1.15.0)\n",
            "Requirement already satisfied: attrs>=17.4.0 in /usr/local/lib/python3.7/dist-packages (from pytest->hanja) (21.2.0)\n",
            "Requirement already satisfied: more-itertools>=4.0.0 in /usr/local/lib/python3.7/dist-packages (from pytest->hanja) (8.11.0)\n",
            "Requirement already satisfied: atomicwrites>=1.0 in /usr/local/lib/python3.7/dist-packages (from pytest->hanja) (1.4.0)\n",
            "Requirement already satisfied: pluggy<0.8,>=0.5 in /usr/local/lib/python3.7/dist-packages (from pytest->hanja) (0.7.1)\n",
            "Requirement already satisfied: py>=1.5.0 in /usr/local/lib/python3.7/dist-packages (from pytest->hanja) (1.11.0)\n",
            "Requirement already satisfied: setuptools in /usr/local/lib/python3.7/dist-packages (from pytest->hanja) (57.4.0)\n",
            "Collecting coverage[toml]>=5.2.1\n",
            "  Downloading coverage-6.1.2-cp37-cp37m-manylinux_2_5_x86_64.manylinux1_x86_64.manylinux_2_12_x86_64.manylinux2010_x86_64.whl (213 kB)\n",
            "\u001b[K     |████████████████████████████████| 213 kB 68.2 MB/s \n",
            "\u001b[?25hCollecting pytest\n",
            "  Downloading pytest-6.2.5-py3-none-any.whl (280 kB)\n",
            "\u001b[K     |████████████████████████████████| 280 kB 78.1 MB/s \n",
            "\u001b[?25hCollecting coverage[toml]>=5.2.1\n",
            "  Downloading coverage-6.1.1-cp37-cp37m-manylinux_2_5_x86_64.manylinux1_x86_64.manylinux_2_12_x86_64.manylinux2010_x86_64.whl (213 kB)\n",
            "\u001b[K     |████████████████████████████████| 213 kB 58.5 MB/s \n",
            "\u001b[?25h  Downloading coverage-6.1-cp37-cp37m-manylinux_2_5_x86_64.manylinux1_x86_64.manylinux_2_12_x86_64.manylinux2010_x86_64.whl (213 kB)\n",
            "\u001b[K     |████████████████████████████████| 213 kB 77.2 MB/s \n",
            "\u001b[?25h  Downloading coverage-6.0.2-cp37-cp37m-manylinux_2_5_x86_64.manylinux1_x86_64.manylinux_2_12_x86_64.manylinux2010_x86_64.whl (253 kB)\n",
            "\u001b[K     |████████████████████████████████| 253 kB 61.2 MB/s \n",
            "\u001b[?25h  Downloading coverage-6.0.1-cp37-cp37m-manylinux_2_5_x86_64.manylinux1_x86_64.manylinux_2_12_x86_64.manylinux2010_x86_64.whl (252 kB)\n",
            "\u001b[K     |████████████████████████████████| 252 kB 55.6 MB/s \n",
            "\u001b[?25h  Downloading coverage-6.0-cp37-cp37m-manylinux_2_5_x86_64.manylinux1_x86_64.manylinux_2_12_x86_64.manylinux2010_x86_64.whl (252 kB)\n",
            "\u001b[K     |████████████████████████████████| 252 kB 62.0 MB/s \n",
            "\u001b[?25h  Downloading coverage-5.5-cp37-cp37m-manylinux2010_x86_64.whl (242 kB)\n",
            "\u001b[K     |████████████████████████████████| 242 kB 65.1 MB/s \n",
            "\u001b[?25h  Downloading coverage-5.4-cp37-cp37m-manylinux2010_x86_64.whl (242 kB)\n",
            "\u001b[K     |████████████████████████████████| 242 kB 67.2 MB/s \n",
            "\u001b[?25h  Downloading coverage-5.3.1-cp37-cp37m-manylinux2010_x86_64.whl (242 kB)\n",
            "\u001b[K     |████████████████████████████████| 242 kB 65.0 MB/s \n",
            "\u001b[?25h  Downloading coverage-5.3-cp37-cp37m-manylinux1_x86_64.whl (229 kB)\n",
            "\u001b[K     |████████████████████████████████| 229 kB 78.5 MB/s \n",
            "\u001b[?25h  Downloading coverage-5.2.1-cp37-cp37m-manylinux1_x86_64.whl (229 kB)\n",
            "\u001b[K     |████████████████████████████████| 229 kB 81.6 MB/s \n",
            "\u001b[?25hINFO: pip is looking at multiple versions of pytest-cov to determine which version is compatible with other requirements. This could take a while.\n",
            "Collecting pytest-cov\n",
            "  Downloading pytest_cov-2.12.1-py2.py3-none-any.whl (20 kB)\n",
            "  Downloading pytest_cov-2.12.0-py2.py3-none-any.whl (20 kB)\n",
            "  Downloading pytest_cov-2.11.1-py2.py3-none-any.whl (20 kB)\n",
            "  Downloading pytest_cov-2.11.0-py2.py3-none-any.whl (20 kB)\n",
            "  Downloading pytest_cov-2.10.1-py2.py3-none-any.whl (19 kB)\n",
            "  Downloading pytest_cov-2.10.0-py2.py3-none-any.whl (19 kB)\n",
            "  Downloading pytest_cov-2.9.0-py2.py3-none-any.whl (19 kB)\n",
            "  Downloading pytest_cov-2.8.1-py2.py3-none-any.whl (18 kB)\n",
            "  Downloading pytest_cov-2.8.0-py2.py3-none-any.whl (18 kB)\n",
            "  Downloading pytest_cov-2.7.1-py2.py3-none-any.whl (17 kB)\n",
            "  Downloading pytest_cov-2.7.0-py2.py3-none-any.whl (17 kB)\n",
            "  Downloading pytest_cov-2.6.1-py2.py3-none-any.whl (16 kB)\n",
            "  Downloading pytest_cov-2.6.0-py2.py3-none-any.whl (14 kB)\n",
            "  Downloading pytest_cov-2.5.1-py2.py3-none-any.whl (21 kB)\n",
            "Building wheels for collected packages: hanja, pyyaml\n",
            "  Building wheel for hanja (setup.py) ... \u001b[?25l\u001b[?25hdone\n",
            "  Created wheel for hanja: filename=hanja-0.13.3-py3-none-any.whl size=128423 sha256=14347a3874b1a7700744c526cb6f29d1204b2f669a0c2c49c44a426066ef62b0\n",
            "  Stored in directory: /root/.cache/pip/wheels/70/08/88/f9cd32ddb92f5c3061cf16f068c842dc558d2f66a9c943b51a\n",
            "  Building wheel for pyyaml (setup.py) ... \u001b[?25l\u001b[?25hdone\n",
            "  Created wheel for pyyaml: filename=PyYAML-5.1.2-cp37-cp37m-linux_x86_64.whl size=44117 sha256=c0bba32036c27594db3661f71e507fcc12bbf3e7573692342d6373e16591cc14\n",
            "  Stored in directory: /root/.cache/pip/wheels/23/b9/73/57aaccb6957d94ed63f474b51a9f7f992c5eff4635052c0557\n",
            "Successfully built hanja pyyaml\n",
            "Installing collected packages: pyyaml, pytest-cov, hanja\n",
            "  Attempting uninstall: pyyaml\n",
            "    Found existing installation: PyYAML 3.13\n",
            "    Uninstalling PyYAML-3.13:\n",
            "      Successfully uninstalled PyYAML-3.13\n",
            "Successfully installed hanja-0.13.3 pytest-cov-2.5.1 pyyaml-5.1.2\n"
          ]
        }
      ]
    },
    {
      "cell_type": "code",
      "metadata": {
        "colab": {
          "base_uri": "https://localhost:8080/",
          "height": 52
        },
        "id": "wEQ5pu_Ds2SH",
        "outputId": "ac642170-e126-4289-c3f6-ab4aeb746539"
      },
      "source": [
        "lala"
      ],
      "execution_count": null,
      "outputs": [
        {
          "output_type": "execute_result",
          "data": {
            "application/vnd.google.colaboratory.intrinsic+json": {
              "type": "string"
            },
            "text/plain": [
              "'○ 자금용도 : 운영자금.○ 한도 : 기존 대출한도 外 일정범위내 특별한도 부여. ※ 매출액 등에 따른 기존 운영자금 대출한도 외 추가한도 부여.○ 우대조건 : 최대 0.90% 금리 우대, 심사절차 간소화 등.'"
            ]
          },
          "metadata": {},
          "execution_count": 154
        }
      ]
    },
    {
      "cell_type": "code",
      "metadata": {
        "colab": {
          "base_uri": "https://localhost:8080/",
          "height": 52
        },
        "id": "6fDSs2-TMNnH",
        "outputId": "1d4bd046-c285-4f02-a242-b2cf6600d1dc"
      },
      "source": [
        "import hanja\n",
        "lili = hanja.translate(lala, 'substitution')\n",
        "lili"
      ],
      "execution_count": null,
      "outputs": [
        {
          "output_type": "execute_result",
          "data": {
            "application/vnd.google.colaboratory.intrinsic+json": {
              "type": "string"
            },
            "text/plain": [
              "'○ 자금용도 : 운영자금.○ 한도 : 기존 대출한도 외 일정범위내 특별한도 부여. ※ 매출액 등에 따른 기존 운영자금 대출한도 외 추가한도 부여.○ 우대조건 : 최대 0.90% 금리 우대, 심사절차 간소화 등.'"
            ]
          },
          "metadata": {},
          "execution_count": 156
        }
      ]
    },
    {
      "cell_type": "markdown",
      "metadata": {
        "id": "q3Vg6e2tMpyU"
      },
      "source": [
        "### 특수문자 제거"
      ]
    },
    {
      "cell_type": "code",
      "metadata": {
        "colab": {
          "base_uri": "https://localhost:8080/",
          "height": 52
        },
        "id": "joe1rYBIMq05",
        "outputId": "500b0653-f652-4502-a70c-01f60d07b0bf"
      },
      "source": [
        "text = re.sub('[-=+,#/\\?:^$@○*\\\"※~&%ㆍ!』\\\\‘|\\(\\)\\[\\]\\<\\>`\\'…》]', '', lili)\n",
        "text"
      ],
      "execution_count": null,
      "outputs": [
        {
          "output_type": "execute_result",
          "data": {
            "application/vnd.google.colaboratory.intrinsic+json": {
              "type": "string"
            },
            "text/plain": [
              "' 자금용도  운영자금. 한도  기존 대출한도 외 일정범위내 특별한도 부여.  매출액 등에 따른 기존 운영자금 대출한도 외 추가한도 부여. 우대조건  최대 0.90 금리 우대 심사절차 간소화 등.'"
            ]
          },
          "metadata": {},
          "execution_count": 157
        }
      ]
    },
    {
      "cell_type": "markdown",
      "metadata": {
        "id": "hcmAzca76rQR"
      },
      "source": [
        "# 숫자 있는 전처리"
      ]
    },
    {
      "cell_type": "markdown",
      "metadata": {
        "id": "HcOR-sUYq_cu"
      },
      "source": [
        "## 이제 지금까지 했던 것들 다 합칠게요!\n",
        "\n",
        "숫자는 없애는 게 좋을지, 놔두는 게 좋을지 모르겠어서 둘 다 일단 만들겠습니당."
      ]
    },
    {
      "cell_type": "code",
      "metadata": {
        "id": "kjySsXsTv2vL"
      },
      "source": [
        "#각 열마다 전처리!\n",
        "\n",
        "def preprocess_1(x):\n",
        "  x = x.str.replace('\\n\\n\\n', '\\n') # \\n을 기준으로 문장 생성\n",
        "  x = x.str.replace('\\n\\n', '\\n') # \\n을 기준으로 문장 생성\n",
        "  x = x.str.replace('\\n', '.') # \\n을 기준으로 문장 생성\n",
        "  x = x +\".\"       \n",
        "  return x\n",
        "\n"
      ],
      "execution_count": null,
      "outputs": []
    },
    {
      "cell_type": "code",
      "metadata": {
        "id": "BqgBdV0Kq7I-"
      },
      "source": [
        "#각 열마다 전처리!\n",
        "\n",
        "#import re\n",
        "#import hanja\n",
        "\n",
        "\n",
        "def real_preprocess_num(x):\n",
        "  meat = re.sub(r'\\([^)]*\\)',\"\",x) #괄호 안 문자들 다 제거\n",
        "  meat1 = re.sub(r'[!^a-zA-Z]',\"\",meat) #영어 제거\n",
        "  lala = meat1.split(\".\") #카테고리 제거\n",
        "  meat3 = []\n",
        "  for i in range(len(lala)):\n",
        "    if len(lala[i]) != 0:\n",
        "      meat3.append(lala[i])\n",
        "  cat_string = [\"||\", \"/\", \">\"]\n",
        "  temp1 = []\n",
        "  for i in range(len(meat3)):\n",
        "    for j in range(len(cat_string)):\n",
        "      if cat_string[j] not in meat3[i]:\n",
        "        temp1.append(meat3[i])\n",
        "  meat4 = \".\".join(meat3)\n",
        "  meat4 = meat4 + '.'\n",
        "  lili = hanja.translate(meat4, 'substitution') #한자 한글로 변환\n",
        "  text = re.sub('[^.0-9가-힣\\s]', '', lili) #한글, 숫자, 공백 빼고 다 제거\n",
        "  text = re.sub('[-=+,#/\\?:^$@○*\\\"※~&%ㆍ!』\\\\‘|\\(\\)\\[\\]\\<\\>`\\'…》]','',text) #혹시 모를 특수문자들 다 제거ㅕ\n",
        "  return text\n"
      ],
      "execution_count": null,
      "outputs": []
    },
    {
      "cell_type": "markdown",
      "metadata": {
        "id": "W3-mYWUG36K8"
      },
      "source": [
        "## input 전처리"
      ]
    },
    {
      "cell_type": "code",
      "metadata": {
        "colab": {
          "base_uri": "https://localhost:8080/",
          "height": 34
        },
        "id": "VW7g69TSvFTe",
        "outputId": "7667c6d1-7c63-4282-d76a-2c6b7395cd28"
      },
      "source": [
        "exdt = data['지원대상']\n",
        "exdt = preprocess_1(exdt)\n",
        "exdt = exdt.astype(str)\n",
        "exdt = exdt.apply(lambda x: real_preprocess_num(x))\n",
        "exdt[88484]"
      ],
      "execution_count": null,
      "outputs": [
        {
          "output_type": "execute_result",
          "data": {
            "application/vnd.google.colaboratory.intrinsic+json": {
              "type": "string"
            },
            "text/plain": [
              "'만3세6세 어린이.저소득계층 취학 전 아동.저소득층일반.'"
            ]
          },
          "metadata": {},
          "execution_count": 277
        }
      ]
    },
    {
      "cell_type": "code",
      "metadata": {
        "colab": {
          "base_uri": "https://localhost:8080/"
        },
        "id": "pXeiq-5R4YQv",
        "outputId": "f6c20857-8803-421f-8e25-2449110661f3"
      },
      "source": [
        "exdt.isnull().sum()"
      ],
      "execution_count": null,
      "outputs": [
        {
          "output_type": "execute_result",
          "data": {
            "text/plain": [
              "0"
            ]
          },
          "metadata": {},
          "execution_count": 240
        }
      ]
    },
    {
      "cell_type": "code",
      "metadata": {
        "colab": {
          "base_uri": "https://localhost:8080/",
          "height": 52
        },
        "id": "V56vReOo02Dj",
        "outputId": "8a26b463-d8eb-4f4e-96ff-e6847ed1bd80"
      },
      "source": [
        "tpdt = data['지원내용']\n",
        "tpdt = preprocess_1(tpdt)\n",
        "tpdt = tpdt.astype(str)\n",
        "tpdt = tpdt.apply(lambda x: real_preprocess_num(x))\n",
        "tpdt[3]"
      ],
      "execution_count": null,
      "outputs": [
        {
          "output_type": "execute_result",
          "data": {
            "application/vnd.google.colaboratory.intrinsic+json": {
              "type": "string"
            },
            "text/plain": [
              "' 자금용도  운영자금. 한도  기존 대출한도 외 일정범위내 특별한도 부여.  매출액 등에 따른 기존 운영자금 대출한도 외 추가한도 부여. 우대조건  최대 0.90 금리 우대 심사절차 간소화 등.'"
            ]
          },
          "metadata": {},
          "execution_count": 278
        }
      ]
    },
    {
      "cell_type": "code",
      "metadata": {
        "colab": {
          "base_uri": "https://localhost:8080/"
        },
        "id": "pM3000Ej4a-b",
        "outputId": "222e2e92-8f70-4e9b-eaf4-45d9874928f4"
      },
      "source": [
        "tpdt.isnull().sum()"
      ],
      "execution_count": null,
      "outputs": [
        {
          "output_type": "execute_result",
          "data": {
            "text/plain": [
              "0"
            ]
          },
          "metadata": {},
          "execution_count": 242
        }
      ]
    },
    {
      "cell_type": "code",
      "metadata": {
        "colab": {
          "base_uri": "https://localhost:8080/",
          "height": 174
        },
        "id": "uNJ7lO1S1DmX",
        "outputId": "202a39cd-4d90-4fb4-a25c-c034b2197ab1"
      },
      "source": [
        "hcdt = data['선정기준']\n",
        "hcdt = preprocess_1(hcdt)\n",
        "hcdt = hcdt.astype(str)\n",
        "hcdt = hcdt.apply(lambda x: real_preprocess_num(x))\n",
        "hcdt[4]"
      ],
      "execution_count": null,
      "outputs": [
        {
          "output_type": "execute_result",
          "data": {
            "application/vnd.google.colaboratory.intrinsic+json": {
              "type": "string"
            },
            "text/plain": [
              "' 기관장비설비사업의 사업자 선정은 다음의 순위로 하되 동일 순위자의 세부 우선순위는 저마력 기관 대체 신청자 소형어선 어업인 생분해성 . 기관장비설비사업의 사업자 선정은 다음의 순위로 하되 동일 순위자의 세부 우선순위는 저마력 기관 대체 신청자 소형어선 어업인 생분해성 어구 시범사업 참여 어업인 어업인 후계자 국산기관 사용자 순으로 함.  다만 등의 경우 집어등을 작업등보다 우선으로 하며 동일 순위자의 우선순위는 소형어선 어업인 어업인 후계자 순으로 함.       대체기관의 단종 등 부득이한 경우 상위 마력을 적용할 수 있으며 그 허용범위는 10 이하로 한다.     유류절감장치 및  등을 설치하고자 하는 자.     육상용 기관을 해상용 디젤기관으로 대체하고자 하는 자.     사용연수가 많은 노후 기관을 해상용 디젤기관으로 대체하고자 하는 자.     무동력 어선에 신규로 해상용 디젤기관을 설치하고자 하는 자.     노후장비설비를 대체하고자 하는 자.     법령으로 설치가 의무화된 노후장비설비를 희망하는 자.     새로운 장비설비를 설치하고자 하는 자.     가솔린 기관을 대체하고자 하는 자. 단  순위보다 우선지원 불가하며 전체 보조금의 30를 넘을 수 없음 .       기타 지자체 자체실정에 따라 우선순위 추가 가능.  사업자 선정을 위하여 필요한 경우 자체심의 기구에 상정심의할 수 있으며 사업포기에 대비하여 예비사업자를 선정할 수 있음 .       단 추가모집 사업자 선정시 지자체 판단에 의거 심의생략 가능.'"
            ]
          },
          "metadata": {},
          "execution_count": 279
        }
      ]
    },
    {
      "cell_type": "code",
      "metadata": {
        "colab": {
          "base_uri": "https://localhost:8080/"
        },
        "id": "edW6h5Wg4ckA",
        "outputId": "ec8c51fd-cab0-4632-e67d-32aca7fd8420"
      },
      "source": [
        "hcdt.isnull().sum()"
      ],
      "execution_count": null,
      "outputs": [
        {
          "output_type": "execute_result",
          "data": {
            "text/plain": [
              "0"
            ]
          },
          "metadata": {},
          "execution_count": 243
        }
      ]
    },
    {
      "cell_type": "code",
      "metadata": {
        "id": "Rh4_9tmY3mbv"
      },
      "source": [
        "input_data = exdt +   tpdt   + hcdt"
      ],
      "execution_count": null,
      "outputs": []
    },
    {
      "cell_type": "code",
      "metadata": {
        "colab": {
          "base_uri": "https://localhost:8080/"
        },
        "id": "L5sads0H4VKV",
        "outputId": "0d7d7870-785f-432c-a140-6ec7780c22a9"
      },
      "source": [
        "input_data.isnull().sum()"
      ],
      "execution_count": null,
      "outputs": [
        {
          "output_type": "execute_result",
          "data": {
            "text/plain": [
              "0"
            ]
          },
          "metadata": {},
          "execution_count": 250
        }
      ]
    },
    {
      "cell_type": "code",
      "metadata": {
        "colab": {
          "base_uri": "https://localhost:8080/",
          "height": 52
        },
        "id": "0gd2dkzo4_In",
        "outputId": "13bf13fd-3708-4037-e02d-11498d243a63"
      },
      "source": [
        "input_data[40000]"
      ],
      "execution_count": null,
      "outputs": [
        {
          "output_type": "execute_result",
          "data": {
            "application/vnd.google.colaboratory.intrinsic+json": {
              "type": "string"
            },
            "text/plain": [
              "' 입양특례법상 허가를 받은 입양기관에 의해 같은 법의 요건과 절차를 갖춰 국내 입양한 가정.  입양아동이 만 16세가 될 때까지.입양가정.월 15만 원의 양육수당 지급.생활병역생활지원입양가정.입양특례법상 허가를 받은 입양기관에 의해 같은 법의 요건과 절차를 갖춰 국내 입양한 가정.'"
            ]
          },
          "metadata": {},
          "execution_count": 251
        }
      ]
    },
    {
      "cell_type": "code",
      "metadata": {
        "id": "xSzx6utH5ZVV"
      },
      "source": [
        ""
      ],
      "execution_count": null,
      "outputs": []
    },
    {
      "cell_type": "markdown",
      "metadata": {
        "id": "N7ExDrSu39zA"
      },
      "source": [
        "## output 전처리"
      ]
    },
    {
      "cell_type": "code",
      "metadata": {
        "id": "Q35DEb26325G",
        "colab": {
          "base_uri": "https://localhost:8080/",
          "height": 34
        },
        "outputId": "e5c1dccc-4770-4925-8885-56a26c4be184"
      },
      "source": [
        "y_label = data['서비스목적']\n",
        "y_label = preprocess_1(y_label)\n",
        "y_label = y_label.astype(str)\n",
        "y_label = y_label.apply(lambda x: real_preprocess(x))\n",
        "y_label[3]"
      ],
      "execution_count": null,
      "outputs": [
        {
          "output_type": "execute_result",
          "data": {
            "application/vnd.google.colaboratory.intrinsic+json": {
              "type": "string"
            },
            "text/plain": [
              "'코로나19로 피해를 입은 중소중견기업 지원 프로그램.'"
            ]
          },
          "metadata": {},
          "execution_count": 281
        }
      ]
    },
    {
      "cell_type": "code",
      "metadata": {
        "colab": {
          "base_uri": "https://localhost:8080/"
        },
        "id": "4wEGs_i45HMQ",
        "outputId": "da7d7f31-4898-4865-d646-c7a9bda4f1a4"
      },
      "source": [
        "y_label.isnull().sum()"
      ],
      "execution_count": null,
      "outputs": [
        {
          "output_type": "execute_result",
          "data": {
            "text/plain": [
              "0"
            ]
          },
          "metadata": {},
          "execution_count": 253
        }
      ]
    },
    {
      "cell_type": "markdown",
      "metadata": {
        "id": "b7u4Mx3z-m5X"
      },
      "source": [
        "## 데이터 합치기"
      ]
    },
    {
      "cell_type": "code",
      "metadata": {
        "id": "m9S1m8BR6SbX"
      },
      "source": [
        "preprocessed_data_withnum.to_csv(\"/content/drive/MyDrive/프로젝트2-B팀/요약 관련/지오_전처리_숫자있.csv\")"
      ],
      "execution_count": null,
      "outputs": []
    },
    {
      "cell_type": "markdown",
      "metadata": {
        "id": "ydyuc3Aa6ZN5"
      },
      "source": [
        "# 숫자 없는 걸로 전처리."
      ]
    },
    {
      "cell_type": "code",
      "metadata": {
        "id": "inqp0lo36YlU"
      },
      "source": [
        "#각 열마다 전처리!\n",
        "\n",
        "#import re\n",
        "#import hanja\n",
        "\n",
        "\n",
        "def real_preprocess_no(x):\n",
        "  meat = re.sub(r'\\([^)]*\\)',\"\",x) #괄호 안 문자들 다 제거\n",
        "  meat1 = re.sub(r'[!^a-zA-Z]',\"\",meat) #영어 제거\n",
        "  lala = meat1.split(\".\") #카테고리 제거\n",
        "  meat3 = []\n",
        "  for i in range(len(lala)):\n",
        "    if len(lala[i]) != 0:\n",
        "      meat3.append(lala[i])\n",
        "  cat_string = [\"||\", \"/\", \">\"]\n",
        "  temp1 = []\n",
        "  for i in range(len(meat3)):\n",
        "    for j in range(len(cat_string)):\n",
        "      if cat_string[j] not in meat3[i]:\n",
        "        temp1.append(meat3[i])\n",
        "  meat4 = \".\".join(meat3)\n",
        "  meat4 = meat4 + '.'\n",
        "  lili = hanja.translate(meat4, 'substitution') #한자 한글로 변환\n",
        "  text = re.sub('[^.가-힣\\s]', '', lili) #한글, 숫자, 공백 빼고 다 제거\n",
        "  text = re.sub('[-=+,#/\\?:^$@○*\\\"※~&%ㆍ!』\\\\‘|\\(\\)\\[\\]\\<\\>`\\'…》]','',text) #혹시 모를 특수문자들 다 제거ㅕ\n",
        "  return text\n"
      ],
      "execution_count": null,
      "outputs": []
    },
    {
      "cell_type": "markdown",
      "metadata": {
        "id": "9Mt2xeAE-tUB"
      },
      "source": [
        "### input 전처리"
      ]
    },
    {
      "cell_type": "code",
      "metadata": {
        "colab": {
          "base_uri": "https://localhost:8080/",
          "height": 34
        },
        "id": "4HVtj8kJ60j1",
        "outputId": "341046dd-43af-4ebe-d51e-a40a35671ec7"
      },
      "source": [
        "exdt1 = data['지원대상']\n",
        "exdt1 = preprocess_1(exdt1)\n",
        "exdt1 = exdt1.astype(str)\n",
        "exdt1 = exdt1.apply(lambda x: real_preprocess_no(x))\n",
        "exdt1[88484]"
      ],
      "execution_count": null,
      "outputs": [
        {
          "output_type": "execute_result",
          "data": {
            "application/vnd.google.colaboratory.intrinsic+json": {
              "type": "string"
            },
            "text/plain": [
              "'만세세 어린이.저소득계층 취학 전 아동.저소득층일반.'"
            ]
          },
          "metadata": {},
          "execution_count": 285
        }
      ]
    },
    {
      "cell_type": "code",
      "metadata": {
        "colab": {
          "base_uri": "https://localhost:8080/",
          "height": 52
        },
        "id": "77uy6Kbs68Oq",
        "outputId": "99a81b5e-aa27-4396-df25-42fe95a49744"
      },
      "source": [
        "tpdt1 = data['지원내용']\n",
        "tpdt1 = preprocess_1(tpdt1)\n",
        "tpdt1 = tpdt1.astype(str)\n",
        "tpdt1 = tpdt1.apply(lambda x: real_preprocess_no(x))\n",
        "tpdt1[3]"
      ],
      "execution_count": null,
      "outputs": [
        {
          "output_type": "execute_result",
          "data": {
            "application/vnd.google.colaboratory.intrinsic+json": {
              "type": "string"
            },
            "text/plain": [
              "' 자금용도  운영자금. 한도  기존 대출한도 외 일정범위내 특별한도 부여.  매출액 등에 따른 기존 운영자금 대출한도 외 추가한도 부여. 우대조건  최대 . 금리 우대 심사절차 간소화 등.'"
            ]
          },
          "metadata": {},
          "execution_count": 286
        }
      ]
    },
    {
      "cell_type": "code",
      "metadata": {
        "colab": {
          "base_uri": "https://localhost:8080/",
          "height": 174
        },
        "id": "OXw9YihV6-jQ",
        "outputId": "8bd5bb03-965c-4f33-c47e-1d9c833101f0"
      },
      "source": [
        "hcdt1 = data['선정기준']\n",
        "hcdt1 = preprocess_1(hcdt1)\n",
        "hcdt1 = hcdt1.astype(str)\n",
        "hcdt1 = hcdt1.apply(lambda x: real_preprocess_no(x))\n",
        "hcdt1[4]"
      ],
      "execution_count": null,
      "outputs": [
        {
          "output_type": "execute_result",
          "data": {
            "application/vnd.google.colaboratory.intrinsic+json": {
              "type": "string"
            },
            "text/plain": [
              "' 기관장비설비사업의 사업자 선정은 다음의 순위로 하되 동일 순위자의 세부 우선순위는 저마력 기관 대체 신청자 소형어선 어업인 생분해성 . 기관장비설비사업의 사업자 선정은 다음의 순위로 하되 동일 순위자의 세부 우선순위는 저마력 기관 대체 신청자 소형어선 어업인 생분해성 어구 시범사업 참여 어업인 어업인 후계자 국산기관 사용자 순으로 함.  다만 등의 경우 집어등을 작업등보다 우선으로 하며 동일 순위자의 우선순위는 소형어선 어업인 어업인 후계자 순으로 함.       대체기관의 단종 등 부득이한 경우 상위 마력을 적용할 수 있으며 그 허용범위는  이하로 한다.     유류절감장치 및  등을 설치하고자 하는 자.     육상용 기관을 해상용 디젤기관으로 대체하고자 하는 자.     사용연수가 많은 노후 기관을 해상용 디젤기관으로 대체하고자 하는 자.     무동력 어선에 신규로 해상용 디젤기관을 설치하고자 하는 자.     노후장비설비를 대체하고자 하는 자.     법령으로 설치가 의무화된 노후장비설비를 희망하는 자.     새로운 장비설비를 설치하고자 하는 자.     가솔린 기관을 대체하고자 하는 자. 단  순위보다 우선지원 불가하며 전체 보조금의 를 넘을 수 없음 .       기타 지자체 자체실정에 따라 우선순위 추가 가능.  사업자 선정을 위하여 필요한 경우 자체심의 기구에 상정심의할 수 있으며 사업포기에 대비하여 예비사업자를 선정할 수 있음 .       단 추가모집 사업자 선정시 지자체 판단에 의거 심의생략 가능.'"
            ]
          },
          "metadata": {},
          "execution_count": 287
        }
      ]
    },
    {
      "cell_type": "code",
      "metadata": {
        "id": "ipsKf8WE999i"
      },
      "source": [
        "input_data1 = exdt1 +  tpdt1 +   hcdt1"
      ],
      "execution_count": null,
      "outputs": []
    },
    {
      "cell_type": "markdown",
      "metadata": {
        "id": "XHrOFiBv-yYm"
      },
      "source": [
        "## output 전처리"
      ]
    },
    {
      "cell_type": "code",
      "metadata": {
        "colab": {
          "base_uri": "https://localhost:8080/",
          "height": 34
        },
        "id": "SAmbLr7S-K8f",
        "outputId": "74772e0f-6750-48e0-9106-c454dd4d3370"
      },
      "source": [
        "y_label1 = data['서비스목적']\n",
        "y_label1 = preprocess_1(y_label1)\n",
        "y_label1 = y_label1.astype(str)\n",
        "y_label1 = y_label1.apply(lambda x: real_preprocess_no(x))\n",
        "y_label1[3]"
      ],
      "execution_count": null,
      "outputs": [
        {
          "output_type": "execute_result",
          "data": {
            "application/vnd.google.colaboratory.intrinsic+json": {
              "type": "string"
            },
            "text/plain": [
              "'코로나로 피해를 입은 중소중견기업 지원 프로그램.'"
            ]
          },
          "metadata": {},
          "execution_count": 289
        }
      ]
    },
    {
      "cell_type": "code",
      "metadata": {
        "id": "kqtA_VtG-XxX"
      },
      "source": [
        "preprocessed_data_wonum.to_csv(\"/content/drive/MyDrive/프로젝트2-B팀/요약 관련/지오_전처리_숫자없.csv\")"
      ],
      "execution_count": null,
      "outputs": []
    },
    {
      "cell_type": "code",
      "metadata": {
        "id": "hS5JH9Vqa3vY"
      },
      "source": [
        ""
      ],
      "execution_count": null,
      "outputs": []
    }
  ]
}